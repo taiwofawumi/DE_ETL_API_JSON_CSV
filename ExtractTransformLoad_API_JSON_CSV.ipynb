{
 "cells": [
  {
   "cell_type": "markdown",
   "metadata": {},
   "source": [
    "# Extract API Data"
   ]
  },
  {
   "cell_type": "markdown",
   "metadata": {},
   "source": [
    "In this notebook, I collect exchange rate data in JSON format using an API and then store the data as a CSV."
   ]
  },
  {
   "cell_type": "markdown",
   "metadata": {},
   "source": [
    "## Imports Libraries"
   ]
  },
  {
   "cell_type": "code",
   "execution_count": 1,
   "metadata": {},
   "outputs": [],
   "source": [
    "import requests\n",
    "import pandas as pd"
   ]
  },
  {
   "cell_type": "markdown",
   "metadata": {},
   "source": [
    "## Extract Data Using an API\n"
   ]
  },
  {
   "cell_type": "code",
   "execution_count": 2,
   "metadata": {},
   "outputs": [
    {
     "data": {
      "text/html": [
       "<div>\n",
       "<style scoped>\n",
       "    .dataframe tbody tr th:only-of-type {\n",
       "        vertical-align: middle;\n",
       "    }\n",
       "\n",
       "    .dataframe tbody tr th {\n",
       "        vertical-align: top;\n",
       "    }\n",
       "\n",
       "    .dataframe thead th {\n",
       "        text-align: right;\n",
       "    }\n",
       "</style>\n",
       "<table border=\"1\" class=\"dataframe\">\n",
       "  <thead>\n",
       "    <tr style=\"text-align: right;\">\n",
       "      <th></th>\n",
       "      <th>success</th>\n",
       "      <th>timestamp</th>\n",
       "      <th>base</th>\n",
       "      <th>date</th>\n",
       "      <th>rates</th>\n",
       "    </tr>\n",
       "  </thead>\n",
       "  <tbody>\n",
       "    <tr>\n",
       "      <th>AED</th>\n",
       "      <td>True</td>\n",
       "      <td>2021-11-19 04:17:04</td>\n",
       "      <td>EUR</td>\n",
       "      <td>2021-11-19</td>\n",
       "      <td>4.171107</td>\n",
       "    </tr>\n",
       "    <tr>\n",
       "      <th>AFN</th>\n",
       "      <td>True</td>\n",
       "      <td>2021-11-19 04:17:04</td>\n",
       "      <td>EUR</td>\n",
       "      <td>2021-11-19</td>\n",
       "      <td>105.531438</td>\n",
       "    </tr>\n",
       "    <tr>\n",
       "      <th>ALL</th>\n",
       "      <td>True</td>\n",
       "      <td>2021-11-19 04:17:04</td>\n",
       "      <td>EUR</td>\n",
       "      <td>2021-11-19</td>\n",
       "      <td>121.601205</td>\n",
       "    </tr>\n",
       "    <tr>\n",
       "      <th>AMD</th>\n",
       "      <td>True</td>\n",
       "      <td>2021-11-19 04:17:04</td>\n",
       "      <td>EUR</td>\n",
       "      <td>2021-11-19</td>\n",
       "      <td>540.525666</td>\n",
       "    </tr>\n",
       "    <tr>\n",
       "      <th>ANG</th>\n",
       "      <td>True</td>\n",
       "      <td>2021-11-19 04:17:04</td>\n",
       "      <td>EUR</td>\n",
       "      <td>2021-11-19</td>\n",
       "      <td>2.044352</td>\n",
       "    </tr>\n",
       "    <tr>\n",
       "      <th>...</th>\n",
       "      <td>...</td>\n",
       "      <td>...</td>\n",
       "      <td>...</td>\n",
       "      <td>...</td>\n",
       "      <td>...</td>\n",
       "    </tr>\n",
       "    <tr>\n",
       "      <th>YER</th>\n",
       "      <td>True</td>\n",
       "      <td>2021-11-19 04:17:04</td>\n",
       "      <td>EUR</td>\n",
       "      <td>2021-11-19</td>\n",
       "      <td>284.179738</td>\n",
       "    </tr>\n",
       "    <tr>\n",
       "      <th>ZAR</th>\n",
       "      <td>True</td>\n",
       "      <td>2021-11-19 04:17:04</td>\n",
       "      <td>EUR</td>\n",
       "      <td>2021-11-19</td>\n",
       "      <td>17.758528</td>\n",
       "    </tr>\n",
       "    <tr>\n",
       "      <th>ZMK</th>\n",
       "      <td>True</td>\n",
       "      <td>2021-11-19 04:17:04</td>\n",
       "      <td>EUR</td>\n",
       "      <td>2021-11-19</td>\n",
       "      <td>10221.605901</td>\n",
       "    </tr>\n",
       "    <tr>\n",
       "      <th>ZMW</th>\n",
       "      <td>True</td>\n",
       "      <td>2021-11-19 04:17:04</td>\n",
       "      <td>EUR</td>\n",
       "      <td>2021-11-19</td>\n",
       "      <td>19.981831</td>\n",
       "    </tr>\n",
       "    <tr>\n",
       "      <th>ZWL</th>\n",
       "      <td>True</td>\n",
       "      <td>2021-11-19 04:17:04</td>\n",
       "      <td>EUR</td>\n",
       "      <td>2021-11-19</td>\n",
       "      <td>365.657221</td>\n",
       "    </tr>\n",
       "  </tbody>\n",
       "</table>\n",
       "<p>168 rows × 5 columns</p>\n",
       "</div>"
      ],
      "text/plain": [
       "     success           timestamp base       date         rates\n",
       "AED     True 2021-11-19 04:17:04  EUR 2021-11-19      4.171107\n",
       "AFN     True 2021-11-19 04:17:04  EUR 2021-11-19    105.531438\n",
       "ALL     True 2021-11-19 04:17:04  EUR 2021-11-19    121.601205\n",
       "AMD     True 2021-11-19 04:17:04  EUR 2021-11-19    540.525666\n",
       "ANG     True 2021-11-19 04:17:04  EUR 2021-11-19      2.044352\n",
       "..       ...                 ...  ...        ...           ...\n",
       "YER     True 2021-11-19 04:17:04  EUR 2021-11-19    284.179738\n",
       "ZAR     True 2021-11-19 04:17:04  EUR 2021-11-19     17.758528\n",
       "ZMK     True 2021-11-19 04:17:04  EUR 2021-11-19  10221.605901\n",
       "ZMW     True 2021-11-19 04:17:04  EUR 2021-11-19     19.981831\n",
       "ZWL     True 2021-11-19 04:17:04  EUR 2021-11-19    365.657221\n",
       "\n",
       "[168 rows x 5 columns]"
      ]
     },
     "execution_count": 2,
     "metadata": {},
     "output_type": "execute_result"
    }
   ],
   "source": [
    "# Store link(with API) to variable url\n",
    "url = \"http://api.exchangeratesapi.io/v1/latest?base=EUR&access_key=4b0b9e3a2efc795a1d789e873ccaee4a\"\n",
    "\n",
    "# Get data, analyse and determine format\n",
    "data_json = requests.get(\"http://api.exchangeratesapi.io/v1/latest?base=EUR&access_key=4b0b9e3a2efc795a1d789e873ccaee4a\").text\n",
    "\n",
    "# store data in a pandas dataframe\n",
    "dataframe = pd.read_json(data_json)\n",
    "\n",
    "# Print dataframe\n",
    "dataframe"
   ]
  },
  {
   "cell_type": "code",
   "execution_count": 3,
   "metadata": {},
   "outputs": [
    {
     "data": {
      "text/html": [
       "<div>\n",
       "<style scoped>\n",
       "    .dataframe tbody tr th:only-of-type {\n",
       "        vertical-align: middle;\n",
       "    }\n",
       "\n",
       "    .dataframe tbody tr th {\n",
       "        vertical-align: top;\n",
       "    }\n",
       "\n",
       "    .dataframe thead th {\n",
       "        text-align: right;\n",
       "    }\n",
       "</style>\n",
       "<table border=\"1\" class=\"dataframe\">\n",
       "  <thead>\n",
       "    <tr style=\"text-align: right;\">\n",
       "      <th></th>\n",
       "      <th>Rates</th>\n",
       "    </tr>\n",
       "  </thead>\n",
       "  <tbody>\n",
       "    <tr>\n",
       "      <th>AED</th>\n",
       "      <td>4.171107</td>\n",
       "    </tr>\n",
       "    <tr>\n",
       "      <th>AFN</th>\n",
       "      <td>105.531438</td>\n",
       "    </tr>\n",
       "    <tr>\n",
       "      <th>ALL</th>\n",
       "      <td>121.601205</td>\n",
       "    </tr>\n",
       "    <tr>\n",
       "      <th>AMD</th>\n",
       "      <td>540.525666</td>\n",
       "    </tr>\n",
       "    <tr>\n",
       "      <th>ANG</th>\n",
       "      <td>2.044352</td>\n",
       "    </tr>\n",
       "    <tr>\n",
       "      <th>...</th>\n",
       "      <td>...</td>\n",
       "    </tr>\n",
       "    <tr>\n",
       "      <th>YER</th>\n",
       "      <td>284.179738</td>\n",
       "    </tr>\n",
       "    <tr>\n",
       "      <th>ZAR</th>\n",
       "      <td>17.758528</td>\n",
       "    </tr>\n",
       "    <tr>\n",
       "      <th>ZMK</th>\n",
       "      <td>10221.605901</td>\n",
       "    </tr>\n",
       "    <tr>\n",
       "      <th>ZMW</th>\n",
       "      <td>19.981831</td>\n",
       "    </tr>\n",
       "    <tr>\n",
       "      <th>ZWL</th>\n",
       "      <td>365.657221</td>\n",
       "    </tr>\n",
       "  </tbody>\n",
       "</table>\n",
       "<p>168 rows × 1 columns</p>\n",
       "</div>"
      ],
      "text/plain": [
       "            Rates\n",
       "AED      4.171107\n",
       "AFN    105.531438\n",
       "ALL    121.601205\n",
       "AMD    540.525666\n",
       "ANG      2.044352\n",
       "..            ...\n",
       "YER    284.179738\n",
       "ZAR     17.758528\n",
       "ZMK  10221.605901\n",
       "ZMW     19.981831\n",
       "ZWL    365.657221\n",
       "\n",
       "[168 rows x 1 columns]"
      ]
     },
     "execution_count": 3,
     "metadata": {},
     "output_type": "execute_result"
    }
   ],
   "source": [
    "# Extract only the rates column\n",
    "data = pd.DataFrame([])\n",
    "data['Rates'] = dataframe.rates\n",
    "data"
   ]
  },
  {
   "cell_type": "markdown",
   "metadata": {},
   "source": [
    "### Load the Data to a CSV"
   ]
  },
  {
   "cell_type": "code",
   "execution_count": 4,
   "metadata": {},
   "outputs": [],
   "source": [
    "# Save the Dataframe\n",
    "data.to_csv('ExchangeRates.csv', index=True)"
   ]
  },
  {
   "cell_type": "markdown",
   "metadata": {},
   "source": [
    "## Authors\n"
   ]
  },
  {
   "cell_type": "markdown",
   "metadata": {},
   "source": [
    "Taiwo Fawumi\n",
    "\n",
    "taiwo.fawumi@yahoo.com\n",
    "\n",
    "Published Nov, 2021"
   ]
  }
 ],
 "metadata": {
  "kernelspec": {
   "display_name": "Python 3",
   "language": "python",
   "name": "python3"
  },
  "language_info": {
   "codemirror_mode": {
    "name": "ipython",
    "version": 3
   },
   "file_extension": ".py",
   "mimetype": "text/x-python",
   "name": "python",
   "nbconvert_exporter": "python",
   "pygments_lexer": "ipython3",
   "version": "3.8.8"
  }
 },
 "nbformat": 4,
 "nbformat_minor": 4
}
